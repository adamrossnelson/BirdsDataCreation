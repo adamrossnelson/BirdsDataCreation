{
 "cells": [
  {
   "cell_type": "markdown",
   "metadata": {},
   "source": [
    "## Standard Imports"
   ]
  },
  {
   "cell_type": "code",
   "execution_count": 1,
   "metadata": {},
   "outputs": [],
   "source": [
    "import pandas as pd\n",
    "import numpy as np\n",
    "\n",
    "import matplotlib.pyplot as plt\n",
    "import seaborn as sns\n",
    "\n",
    "from scipy.stats import zscore\n",
    "%matplotlib inline"
   ]
  },
  {
   "cell_type": "markdown",
   "metadata": {},
   "source": [
    "## Get & Review Data"
   ]
  },
  {
   "cell_type": "code",
   "execution_count": 2,
   "metadata": {},
   "outputs": [],
   "source": [
    "df = pd.read_csv('BirdVarietyData_March2021.csv')"
   ]
  },
  {
   "cell_type": "code",
   "execution_count": 3,
   "metadata": {},
   "outputs": [
    {
     "data": {
      "text/html": [
       "<div>\n",
       "<style scoped>\n",
       "    .dataframe tbody tr th:only-of-type {\n",
       "        vertical-align: middle;\n",
       "    }\n",
       "\n",
       "    .dataframe tbody tr th {\n",
       "        vertical-align: top;\n",
       "    }\n",
       "\n",
       "    .dataframe thead th {\n",
       "        text-align: right;\n",
       "    }\n",
       "</style>\n",
       "<table border=\"1\" class=\"dataframe\">\n",
       "  <thead>\n",
       "    <tr style=\"text-align: right;\">\n",
       "      <th></th>\n",
       "      <th>lat</th>\n",
       "      <th>long</th>\n",
       "      <th>weight</th>\n",
       "      <th>wing</th>\n",
       "      <th>color</th>\n",
       "      <th>variety</th>\n",
       "    </tr>\n",
       "  </thead>\n",
       "  <tbody>\n",
       "    <tr>\n",
       "      <th>0</th>\n",
       "      <td>83.921159</td>\n",
       "      <td>40.655318</td>\n",
       "      <td>12.059737</td>\n",
       "      <td>21.162858</td>\n",
       "      <td>Yellow</td>\n",
       "      <td>Western</td>\n",
       "    </tr>\n",
       "    <tr>\n",
       "      <th>1</th>\n",
       "      <td>89.532774</td>\n",
       "      <td>35.521465</td>\n",
       "      <td>19.620606</td>\n",
       "      <td>25.443436</td>\n",
       "      <td>Yellow</td>\n",
       "      <td>Western</td>\n",
       "    </tr>\n",
       "    <tr>\n",
       "      <th>2</th>\n",
       "      <td>85.376970</td>\n",
       "      <td>41.046102</td>\n",
       "      <td>8.922330</td>\n",
       "      <td>19.067410</td>\n",
       "      <td>Black</td>\n",
       "      <td>Western</td>\n",
       "    </tr>\n",
       "    <tr>\n",
       "      <th>3</th>\n",
       "      <td>85.446223</td>\n",
       "      <td>37.257189</td>\n",
       "      <td>14.052334</td>\n",
       "      <td>22.713154</td>\n",
       "      <td>Yellow</td>\n",
       "      <td>Western</td>\n",
       "    </tr>\n",
       "    <tr>\n",
       "      <th>4</th>\n",
       "      <td>84.285382</td>\n",
       "      <td>37.730382</td>\n",
       "      <td>19.421060</td>\n",
       "      <td>28.925393</td>\n",
       "      <td>Black</td>\n",
       "      <td>Western</td>\n",
       "    </tr>\n",
       "  </tbody>\n",
       "</table>\n",
       "</div>"
      ],
      "text/plain": [
       "         lat       long     weight       wing   color  variety\n",
       "0  83.921159  40.655318  12.059737  21.162858  Yellow  Western\n",
       "1  89.532774  35.521465  19.620606  25.443436  Yellow  Western\n",
       "2  85.376970  41.046102   8.922330  19.067410   Black  Western\n",
       "3  85.446223  37.257189  14.052334  22.713154  Yellow  Western\n",
       "4  84.285382  37.730382  19.421060  28.925393   Black  Western"
      ]
     },
     "execution_count": 3,
     "metadata": {},
     "output_type": "execute_result"
    }
   ],
   "source": [
    "df.head()"
   ]
  },
  {
   "cell_type": "markdown",
   "metadata": {},
   "source": [
    "## Encode Categorical Data"
   ]
  },
  {
   "cell_type": "code",
   "execution_count": 4,
   "metadata": {},
   "outputs": [],
   "source": [
    "# One Hot Encoding with list comprehension.\n",
    "df['isBlack'] = [1 if x == 'Black' else 0 for x in df['color']]\n",
    "df['isWhite'] = [1 if x == 'White' else 0 for x in df['color']]\n",
    "df['isYellow'] = [1 if x == 'Yellow' else 0 for x in df['color']]"
   ]
  },
  {
   "cell_type": "markdown",
   "metadata": {},
   "source": [
    "Alternate code that will also accomplish One Hot Encoding.\n",
    "\n",
    "```Python\n",
    "df = pd.concat([df, pd.get_dummies(df[['color']], prefix='is')], axis=1)\n",
    "\n",
    "```\n",
    "\n"
   ]
  },
  {
   "cell_type": "code",
   "execution_count": 5,
   "metadata": {},
   "outputs": [
    {
     "data": {
      "text/html": [
       "<div>\n",
       "<style scoped>\n",
       "    .dataframe tbody tr th:only-of-type {\n",
       "        vertical-align: middle;\n",
       "    }\n",
       "\n",
       "    .dataframe tbody tr th {\n",
       "        vertical-align: top;\n",
       "    }\n",
       "\n",
       "    .dataframe thead th {\n",
       "        text-align: right;\n",
       "    }\n",
       "</style>\n",
       "<table border=\"1\" class=\"dataframe\">\n",
       "  <thead>\n",
       "    <tr style=\"text-align: right;\">\n",
       "      <th></th>\n",
       "      <th>lat</th>\n",
       "      <th>long</th>\n",
       "      <th>weight</th>\n",
       "      <th>wing</th>\n",
       "      <th>color</th>\n",
       "      <th>variety</th>\n",
       "      <th>isBlack</th>\n",
       "      <th>isWhite</th>\n",
       "      <th>isYellow</th>\n",
       "    </tr>\n",
       "  </thead>\n",
       "  <tbody>\n",
       "    <tr>\n",
       "      <th>0</th>\n",
       "      <td>83.921159</td>\n",
       "      <td>40.655318</td>\n",
       "      <td>12.059737</td>\n",
       "      <td>21.162858</td>\n",
       "      <td>Yellow</td>\n",
       "      <td>Western</td>\n",
       "      <td>0</td>\n",
       "      <td>0</td>\n",
       "      <td>1</td>\n",
       "    </tr>\n",
       "    <tr>\n",
       "      <th>1</th>\n",
       "      <td>89.532774</td>\n",
       "      <td>35.521465</td>\n",
       "      <td>19.620606</td>\n",
       "      <td>25.443436</td>\n",
       "      <td>Yellow</td>\n",
       "      <td>Western</td>\n",
       "      <td>0</td>\n",
       "      <td>0</td>\n",
       "      <td>1</td>\n",
       "    </tr>\n",
       "    <tr>\n",
       "      <th>2</th>\n",
       "      <td>85.376970</td>\n",
       "      <td>41.046102</td>\n",
       "      <td>8.922330</td>\n",
       "      <td>19.067410</td>\n",
       "      <td>Black</td>\n",
       "      <td>Western</td>\n",
       "      <td>1</td>\n",
       "      <td>0</td>\n",
       "      <td>0</td>\n",
       "    </tr>\n",
       "    <tr>\n",
       "      <th>3</th>\n",
       "      <td>85.446223</td>\n",
       "      <td>37.257189</td>\n",
       "      <td>14.052334</td>\n",
       "      <td>22.713154</td>\n",
       "      <td>Yellow</td>\n",
       "      <td>Western</td>\n",
       "      <td>0</td>\n",
       "      <td>0</td>\n",
       "      <td>1</td>\n",
       "    </tr>\n",
       "    <tr>\n",
       "      <th>4</th>\n",
       "      <td>84.285382</td>\n",
       "      <td>37.730382</td>\n",
       "      <td>19.421060</td>\n",
       "      <td>28.925393</td>\n",
       "      <td>Black</td>\n",
       "      <td>Western</td>\n",
       "      <td>1</td>\n",
       "      <td>0</td>\n",
       "      <td>0</td>\n",
       "    </tr>\n",
       "  </tbody>\n",
       "</table>\n",
       "</div>"
      ],
      "text/plain": [
       "         lat       long     weight       wing   color  variety  isBlack  \\\n",
       "0  83.921159  40.655318  12.059737  21.162858  Yellow  Western        0   \n",
       "1  89.532774  35.521465  19.620606  25.443436  Yellow  Western        0   \n",
       "2  85.376970  41.046102   8.922330  19.067410   Black  Western        1   \n",
       "3  85.446223  37.257189  14.052334  22.713154  Yellow  Western        0   \n",
       "4  84.285382  37.730382  19.421060  28.925393   Black  Western        1   \n",
       "\n",
       "   isWhite  isYellow  \n",
       "0        0         1  \n",
       "1        0         1  \n",
       "2        0         0  \n",
       "3        0         1  \n",
       "4        0         0  "
      ]
     },
     "execution_count": 5,
     "metadata": {},
     "output_type": "execute_result"
    }
   ],
   "source": [
    "# View the results of One Hot Encoding.\n",
    "df.head()"
   ]
  },
  {
   "cell_type": "markdown",
   "metadata": {},
   "source": [
    "## Standardize & Scale Data"
   ]
  },
  {
   "cell_type": "code",
   "execution_count": 6,
   "metadata": {},
   "outputs": [],
   "source": [
    "# Mean and standard dev for later use in standardizing new observations.\n",
    "scaler_data = df.drop(['variety','color'], \n",
    "                      axis=1).describe().transpose()[['mean','std']]"
   ]
  },
  {
   "cell_type": "code",
   "execution_count": 7,
   "metadata": {},
   "outputs": [],
   "source": [
    "scaled_features = df.drop(['variety','color'], axis=1).apply(zscore)"
   ]
  },
  {
   "cell_type": "markdown",
   "metadata": {},
   "source": [
    "Alternate code that will standardize based on zscore.\n",
    "\n",
    "```Python\n",
    "from sklearn.preprocessing import StandardScaler\n",
    "scaler = StandardScaler()\n",
    "scaler.fit(df.drop(['variety','color'], axis=1))\n",
    "\n",
    "scaled_features = scaler.transform(df.drop(['variety','color'], axis=1))\n",
    "```"
   ]
  },
  {
   "cell_type": "code",
   "execution_count": 8,
   "metadata": {},
   "outputs": [
    {
     "data": {
      "text/html": [
       "<div>\n",
       "<style scoped>\n",
       "    .dataframe tbody tr th:only-of-type {\n",
       "        vertical-align: middle;\n",
       "    }\n",
       "\n",
       "    .dataframe tbody tr th {\n",
       "        vertical-align: top;\n",
       "    }\n",
       "\n",
       "    .dataframe thead th {\n",
       "        text-align: right;\n",
       "    }\n",
       "</style>\n",
       "<table border=\"1\" class=\"dataframe\">\n",
       "  <thead>\n",
       "    <tr style=\"text-align: right;\">\n",
       "      <th></th>\n",
       "      <th>lat</th>\n",
       "      <th>long</th>\n",
       "      <th>weight</th>\n",
       "      <th>wing</th>\n",
       "      <th>isBlack</th>\n",
       "      <th>isWhite</th>\n",
       "      <th>isYellow</th>\n",
       "    </tr>\n",
       "  </thead>\n",
       "  <tbody>\n",
       "    <tr>\n",
       "      <th>0</th>\n",
       "      <td>-0.218368</td>\n",
       "      <td>1.613581</td>\n",
       "      <td>-0.906214</td>\n",
       "      <td>-1.618985</td>\n",
       "      <td>-0.843128</td>\n",
       "      <td>-0.449359</td>\n",
       "      <td>1.183622</td>\n",
       "    </tr>\n",
       "    <tr>\n",
       "      <th>1</th>\n",
       "      <td>1.393017</td>\n",
       "      <td>-0.968490</td>\n",
       "      <td>0.975750</td>\n",
       "      <td>0.280953</td>\n",
       "      <td>-0.843128</td>\n",
       "      <td>-0.449359</td>\n",
       "      <td>1.183622</td>\n",
       "    </tr>\n",
       "    <tr>\n",
       "      <th>2</th>\n",
       "      <td>0.199670</td>\n",
       "      <td>1.810126</td>\n",
       "      <td>-1.687141</td>\n",
       "      <td>-2.549051</td>\n",
       "      <td>1.186060</td>\n",
       "      <td>-0.449359</td>\n",
       "      <td>-0.844865</td>\n",
       "    </tr>\n",
       "    <tr>\n",
       "      <th>3</th>\n",
       "      <td>0.219557</td>\n",
       "      <td>-0.095508</td>\n",
       "      <td>-0.410240</td>\n",
       "      <td>-0.930885</td>\n",
       "      <td>-0.843128</td>\n",
       "      <td>-0.449359</td>\n",
       "      <td>1.183622</td>\n",
       "    </tr>\n",
       "    <tr>\n",
       "      <th>4</th>\n",
       "      <td>-0.113781</td>\n",
       "      <td>0.142484</td>\n",
       "      <td>0.926081</td>\n",
       "      <td>1.826422</td>\n",
       "      <td>1.186060</td>\n",
       "      <td>-0.449359</td>\n",
       "      <td>-0.844865</td>\n",
       "    </tr>\n",
       "    <tr>\n",
       "      <th>...</th>\n",
       "      <td>...</td>\n",
       "      <td>...</td>\n",
       "      <td>...</td>\n",
       "      <td>...</td>\n",
       "      <td>...</td>\n",
       "      <td>...</td>\n",
       "      <td>...</td>\n",
       "    </tr>\n",
       "    <tr>\n",
       "      <th>1995</th>\n",
       "      <td>-0.581093</td>\n",
       "      <td>0.581252</td>\n",
       "      <td>1.120771</td>\n",
       "      <td>-0.333779</td>\n",
       "      <td>1.186060</td>\n",
       "      <td>-0.449359</td>\n",
       "      <td>-0.844865</td>\n",
       "    </tr>\n",
       "    <tr>\n",
       "      <th>1996</th>\n",
       "      <td>-0.065227</td>\n",
       "      <td>-1.341930</td>\n",
       "      <td>-0.475400</td>\n",
       "      <td>-0.194381</td>\n",
       "      <td>-0.843128</td>\n",
       "      <td>-0.449359</td>\n",
       "      <td>1.183622</td>\n",
       "    </tr>\n",
       "    <tr>\n",
       "      <th>1997</th>\n",
       "      <td>0.542021</td>\n",
       "      <td>0.209131</td>\n",
       "      <td>0.094807</td>\n",
       "      <td>0.086022</td>\n",
       "      <td>-0.843128</td>\n",
       "      <td>2.225395</td>\n",
       "      <td>-0.844865</td>\n",
       "    </tr>\n",
       "    <tr>\n",
       "      <th>1998</th>\n",
       "      <td>-1.499142</td>\n",
       "      <td>-0.949464</td>\n",
       "      <td>-0.137050</td>\n",
       "      <td>0.748742</td>\n",
       "      <td>1.186060</td>\n",
       "      <td>-0.449359</td>\n",
       "      <td>-0.844865</td>\n",
       "    </tr>\n",
       "    <tr>\n",
       "      <th>1999</th>\n",
       "      <td>-1.606695</td>\n",
       "      <td>0.349335</td>\n",
       "      <td>0.634537</td>\n",
       "      <td>0.111999</td>\n",
       "      <td>1.186060</td>\n",
       "      <td>-0.449359</td>\n",
       "      <td>-0.844865</td>\n",
       "    </tr>\n",
       "  </tbody>\n",
       "</table>\n",
       "<p>2000 rows × 7 columns</p>\n",
       "</div>"
      ],
      "text/plain": [
       "           lat      long    weight      wing   isBlack   isWhite  isYellow\n",
       "0    -0.218368  1.613581 -0.906214 -1.618985 -0.843128 -0.449359  1.183622\n",
       "1     1.393017 -0.968490  0.975750  0.280953 -0.843128 -0.449359  1.183622\n",
       "2     0.199670  1.810126 -1.687141 -2.549051  1.186060 -0.449359 -0.844865\n",
       "3     0.219557 -0.095508 -0.410240 -0.930885 -0.843128 -0.449359  1.183622\n",
       "4    -0.113781  0.142484  0.926081  1.826422  1.186060 -0.449359 -0.844865\n",
       "...        ...       ...       ...       ...       ...       ...       ...\n",
       "1995 -0.581093  0.581252  1.120771 -0.333779  1.186060 -0.449359 -0.844865\n",
       "1996 -0.065227 -1.341930 -0.475400 -0.194381 -0.843128 -0.449359  1.183622\n",
       "1997  0.542021  0.209131  0.094807  0.086022 -0.843128  2.225395 -0.844865\n",
       "1998 -1.499142 -0.949464 -0.137050  0.748742  1.186060 -0.449359 -0.844865\n",
       "1999 -1.606695  0.349335  0.634537  0.111999  1.186060 -0.449359 -0.844865\n",
       "\n",
       "[2000 rows x 7 columns]"
      ]
     },
     "execution_count": 8,
     "metadata": {},
     "output_type": "execute_result"
    }
   ],
   "source": [
    "scaled_features"
   ]
  },
  {
   "cell_type": "markdown",
   "metadata": {},
   "source": [
    "## Train, Test, & Split The Data"
   ]
  },
  {
   "cell_type": "code",
   "execution_count": 9,
   "metadata": {},
   "outputs": [],
   "source": [
    "from sklearn.model_selection import train_test_split"
   ]
  },
  {
   "cell_type": "code",
   "execution_count": 10,
   "metadata": {},
   "outputs": [],
   "source": [
    "X_train, X_test, y_train, y_test = train_test_split(scaled_features, \n",
    "                                                    df['variety'], \n",
    "                                                    test_size=0.2, \n",
    "                                                    random_state=1234)"
   ]
  },
  {
   "cell_type": "markdown",
   "metadata": {},
   "source": [
    "## KNN Classification Imports"
   ]
  },
  {
   "cell_type": "code",
   "execution_count": 11,
   "metadata": {},
   "outputs": [],
   "source": [
    "from sklearn.neighbors import KNeighborsClassifier"
   ]
  },
  {
   "cell_type": "code",
   "execution_count": 12,
   "metadata": {},
   "outputs": [],
   "source": [
    "knn = KNeighborsClassifier(n_neighbors=1)"
   ]
  },
  {
   "cell_type": "markdown",
   "metadata": {},
   "source": [
    "### Fit The Classification Model"
   ]
  },
  {
   "cell_type": "code",
   "execution_count": 13,
   "metadata": {},
   "outputs": [
    {
     "data": {
      "text/plain": [
       "KNeighborsClassifier(n_neighbors=1)"
      ]
     },
     "execution_count": 13,
     "metadata": {},
     "output_type": "execute_result"
    }
   ],
   "source": [
    "knn.fit(X_train, y_train)"
   ]
  },
  {
   "cell_type": "markdown",
   "metadata": {},
   "source": [
    "### Make Predictions From Test Data"
   ]
  },
  {
   "cell_type": "code",
   "execution_count": 14,
   "metadata": {},
   "outputs": [],
   "source": [
    "pred = knn.predict(X_test)"
   ]
  },
  {
   "cell_type": "markdown",
   "metadata": {},
   "source": [
    "### Review & Evaluate The Results"
   ]
  },
  {
   "cell_type": "code",
   "execution_count": 15,
   "metadata": {},
   "outputs": [],
   "source": [
    "from sklearn.metrics import classification_report, confusion_matrix"
   ]
  },
  {
   "cell_type": "code",
   "execution_count": 16,
   "metadata": {},
   "outputs": [
    {
     "data": {
      "text/html": [
       "<div>\n",
       "<style scoped>\n",
       "    .dataframe tbody tr th:only-of-type {\n",
       "        vertical-align: middle;\n",
       "    }\n",
       "\n",
       "    .dataframe tbody tr th {\n",
       "        vertical-align: top;\n",
       "    }\n",
       "\n",
       "    .dataframe thead th {\n",
       "        text-align: right;\n",
       "    }\n",
       "</style>\n",
       "<table border=\"1\" class=\"dataframe\">\n",
       "  <thead>\n",
       "    <tr style=\"text-align: right;\">\n",
       "      <th>variety</th>\n",
       "      <th>Eastern</th>\n",
       "      <th>Western</th>\n",
       "    </tr>\n",
       "    <tr>\n",
       "      <th>row_0</th>\n",
       "      <th></th>\n",
       "      <th></th>\n",
       "    </tr>\n",
       "  </thead>\n",
       "  <tbody>\n",
       "    <tr>\n",
       "      <th>Eastern</th>\n",
       "      <td>172</td>\n",
       "      <td>33</td>\n",
       "    </tr>\n",
       "    <tr>\n",
       "      <th>Western</th>\n",
       "      <td>30</td>\n",
       "      <td>165</td>\n",
       "    </tr>\n",
       "  </tbody>\n",
       "</table>\n",
       "</div>"
      ],
      "text/plain": [
       "variety  Eastern  Western\n",
       "row_0                    \n",
       "Eastern      172       33\n",
       "Western       30      165"
      ]
     },
     "execution_count": 16,
     "metadata": {},
     "output_type": "execute_result"
    }
   ],
   "source": [
    "# Crosstab shows True Positives & Negatives, plus False Positives & Negatives\n",
    "pd.crosstab(pred, y_test)"
   ]
  },
  {
   "cell_type": "code",
   "execution_count": 17,
   "metadata": {},
   "outputs": [
    {
     "name": "stdout",
     "output_type": "stream",
     "text": [
      "[[172  33]\n",
      " [ 30 165]]\n"
     ]
    }
   ],
   "source": [
    "# Additional details from the sklearn's confusion matrix\n",
    "print(confusion_matrix(pred, y_test))"
   ]
  },
  {
   "cell_type": "code",
   "execution_count": 18,
   "metadata": {},
   "outputs": [],
   "source": [
    "# Additional details from sklearns classification report"
   ]
  },
  {
   "cell_type": "code",
   "execution_count": 19,
   "metadata": {},
   "outputs": [
    {
     "name": "stdout",
     "output_type": "stream",
     "text": [
      "              precision    recall  f1-score   support\n",
      "\n",
      "     Eastern       0.84      0.85      0.85       202\n",
      "     Western       0.85      0.83      0.84       198\n",
      "\n",
      "    accuracy                           0.84       400\n",
      "   macro avg       0.84      0.84      0.84       400\n",
      "weighted avg       0.84      0.84      0.84       400\n",
      "\n"
     ]
    }
   ],
   "source": [
    "print(classification_report(y_test, pred))"
   ]
  },
  {
   "cell_type": "markdown",
   "metadata": {},
   "source": [
    "## Search For Optimal K"
   ]
  },
  {
   "cell_type": "code",
   "execution_count": 20,
   "metadata": {},
   "outputs": [],
   "source": [
    "error_rates = []\n",
    "\n",
    "for i in range(1, 60):\n",
    "    knn = KNeighborsClassifier(n_neighbors=i)\n",
    "    knn.fit(X_train, y_train)\n",
    "    pred_i = knn.predict(X_test)\n",
    "    error_rates.append(np.mean(pred_i != y_test))"
   ]
  },
  {
   "cell_type": "code",
   "execution_count": 21,
   "metadata": {},
   "outputs": [
    {
     "data": {
      "text/plain": [
       "Text(0, 0.5, 'Error Rate')"
      ]
     },
     "execution_count": 21,
     "metadata": {},
     "output_type": "execute_result"
    },
    {
     "data": {
      "image/png": "[encoded data removed]",
      "text/plain": [
       "<Figure size 864x432 with 1 Axes>"
      ]
     },
     "metadata": {
      "needs_background": "light"
     },
     "output_type": "display_data"
    }
   ],
   "source": [
    "plt.figure(figsize=(12, 6))\n",
    "plt.plot(range(1, 60), error_rates, color='blue',\n",
    "         linestyle=':', marker='x', markersize=5)\n",
    "plt.title('Error Rates vs. K Values')\n",
    "plt.xlabel('K Value')\n",
    "plt.ylabel('Error Rate')"
   ]
  },
  {
   "cell_type": "markdown",
   "metadata": {},
   "source": [
    "## Check Results At The Optimal K"
   ]
  },
  {
   "cell_type": "code",
   "execution_count": 22,
   "metadata": {},
   "outputs": [
    {
     "name": "stdout",
     "output_type": "stream",
     "text": [
      "WITH K=39\n",
      "\n",
      "\n",
      "[[176  26]\n",
      " [ 25 173]]\n",
      "\n",
      "\n",
      "              precision    recall  f1-score   support\n",
      "\n",
      "     Eastern       0.88      0.87      0.87       202\n",
      "     Western       0.87      0.87      0.87       198\n",
      "\n",
      "    accuracy                           0.87       400\n",
      "   macro avg       0.87      0.87      0.87       400\n",
      "weighted avg       0.87      0.87      0.87       400\n",
      "\n"
     ]
    }
   ],
   "source": [
    "knn = KNeighborsClassifier(n_neighbors=39)\n",
    "\n",
    "knn.fit(X_train, y_train)\n",
    "pred = knn.predict(X_test)\n",
    "\n",
    "print('WITH K=39')\n",
    "print('\\n')\n",
    "print(confusion_matrix(y_test, pred))\n",
    "print('\\n')\n",
    "print(classification_report(y_test, pred))"
   ]
  },
  {
   "cell_type": "markdown",
   "metadata": {},
   "source": [
    "## Use The Model To Make New Predictions"
   ]
  },
  {
   "cell_type": "code",
   "execution_count": 23,
   "metadata": {},
   "outputs": [],
   "source": [
    "def new_prediction(new_observation, scaler_data):\n",
    "    # Scale the new observation\n",
    "    new_obs_scaled = [(x - m) / sd \n",
    "                      for x, m, sd \n",
    "                      in zip(new_observation, \n",
    "                             scaler_data['mean'], \n",
    "                             scaler_data['std'])]\n",
    "    return(knn.predict(np.array(new_obs_scaled).reshape(1, -1)))"
   ]
  },
  {
   "cell_type": "code",
   "execution_count": 24,
   "metadata": {},
   "outputs": [
    {
     "data": {
      "text/plain": [
       "array(['Eastern'], dtype=object)"
      ]
     },
     "execution_count": 24,
     "metadata": {},
     "output_type": "execute_result"
    }
   ],
   "source": [
    "new_prediction([80,35,15,19,0,1,0], scaler_data)"
   ]
  },
  {
   "cell_type": "code",
   "execution_count": 25,
   "metadata": {},
   "outputs": [
    {
     "data": {
      "text/plain": [
       "array(['Western'], dtype=object)"
      ]
     },
     "execution_count": 25,
     "metadata": {},
     "output_type": "execute_result"
    }
   ],
   "source": [
    "new_prediction([80,35,15,19,1,0,0], scaler_data)"
   ]
  },
  {
   "cell_type": "code",
   "execution_count": 26,
   "metadata": {},
   "outputs": [
    {
     "data": {
      "text/plain": [
       "array(['Western'], dtype=object)"
      ]
     },
     "execution_count": 26,
     "metadata": {},
     "output_type": "execute_result"
    }
   ],
   "source": [
    "new_prediction([80,35,15,19,0,0,1], scaler_data)"
   ]
  },
  {
   "cell_type": "code",
   "execution_count": null,
   "metadata": {},
   "outputs": [],
   "source": []
  }
 ],
 "metadata": {
  "kernelspec": {
   "display_name": "Python 3",
   "language": "python",
   "name": "python3"
  },
  "language_info": {
   "codemirror_mode": {
    "name": "ipython",
    "version": 3
   },
   "file_extension": ".py",
   "mimetype": "text/x-python",
   "name": "python",
   "nbconvert_exporter": "python",
   "pygments_lexer": "ipython3",
   "version": "3.8.3"
  }
 },
 "nbformat": 4,
 "nbformat_minor": 4
}
